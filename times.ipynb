{
 "cells": [
  {
   "cell_type": "code",
   "execution_count": 1,
   "id": "0937e382",
   "metadata": {},
   "outputs": [],
   "source": [
    "import pandas as pd\n",
    "import numpy as np\n",
    "from ast import literal_eval"
   ]
  },
  {
   "cell_type": "code",
   "execution_count": 30,
   "id": "88a65cc8",
   "metadata": {},
   "outputs": [],
   "source": [
    "data = pd.DataFrame(columns=[\"Model\", \"Idx\", \"Times\"])\n",
    "with open(\"hte_l_time.txt\", \"r\") as f:\n",
    "    for line in f.readlines():\n",
    "        if line.startswith(\"Model\"):\n",
    "            continue\n",
    "        d = line.split(\";\")\n",
    "        d[2] = d[2].split(\"\\n\")[0]\n",
    "        df = {\"Model\": str(d[0]), \"Idx\": int(d[1]), \"Times\": d[2]}\n",
    "        data = data.append(pd.DataFrame(df, index=[0]))\n",
    "\n",
    "data.reset_index(inplace=True)\n",
    "data.drop(columns=[\"index\"], inplace=True)"
   ]
  },
  {
   "cell_type": "code",
   "execution_count": 31,
   "id": "6d8cfa44",
   "metadata": {},
   "outputs": [
    {
     "data": {
      "text/html": [
       "<div>\n",
       "<style scoped>\n",
       "    .dataframe tbody tr th:only-of-type {\n",
       "        vertical-align: middle;\n",
       "    }\n",
       "\n",
       "    .dataframe tbody tr th {\n",
       "        vertical-align: top;\n",
       "    }\n",
       "\n",
       "    .dataframe thead th {\n",
       "        text-align: right;\n",
       "    }\n",
       "</style>\n",
       "<table border=\"1\" class=\"dataframe\">\n",
       "  <thead>\n",
       "    <tr style=\"text-align: right;\">\n",
       "      <th></th>\n",
       "      <th>Model</th>\n",
       "      <th>Idx</th>\n",
       "      <th>Times</th>\n",
       "    </tr>\n",
       "  </thead>\n",
       "  <tbody>\n",
       "    <tr>\n",
       "      <th>0</th>\n",
       "      <td>B1</td>\n",
       "      <td>0</td>\n",
       "      <td>[(1, 147.99716329574585), (2, 131.089318037033...</td>\n",
       "    </tr>\n",
       "    <tr>\n",
       "      <th>1</th>\n",
       "      <td>B1</td>\n",
       "      <td>1</td>\n",
       "      <td>[(1, 138.3292236328125), (2, 132.6143598556518...</td>\n",
       "    </tr>\n",
       "    <tr>\n",
       "      <th>2</th>\n",
       "      <td>B1</td>\n",
       "      <td>2</td>\n",
       "      <td>[(1, 139.56730675697327), (2, 141.328600168228...</td>\n",
       "    </tr>\n",
       "    <tr>\n",
       "      <th>3</th>\n",
       "      <td>B1</td>\n",
       "      <td>3</td>\n",
       "      <td>[(1, 129.2668673992157), (2, 119.9269165992736...</td>\n",
       "    </tr>\n",
       "    <tr>\n",
       "      <th>4</th>\n",
       "      <td>B1</td>\n",
       "      <td>4</td>\n",
       "      <td>[(1, 141.2414722442627), (2, 127.1892259120941...</td>\n",
       "    </tr>\n",
       "  </tbody>\n",
       "</table>\n",
       "</div>"
      ],
      "text/plain": [
       "  Model Idx                                              Times\n",
       "0    B1   0  [(1, 147.99716329574585), (2, 131.089318037033...\n",
       "1    B1   1  [(1, 138.3292236328125), (2, 132.6143598556518...\n",
       "2    B1   2  [(1, 139.56730675697327), (2, 141.328600168228...\n",
       "3    B1   3  [(1, 129.2668673992157), (2, 119.9269165992736...\n",
       "4    B1   4  [(1, 141.2414722442627), (2, 127.1892259120941..."
      ]
     },
     "execution_count": 31,
     "metadata": {},
     "output_type": "execute_result"
    }
   ],
   "source": [
    "data.head()"
   ]
  },
  {
   "cell_type": "code",
   "execution_count": 32,
   "id": "7f9f8d98",
   "metadata": {},
   "outputs": [
    {
     "data": {
      "text/plain": [
       "Model    object\n",
       "Idx      object\n",
       "Times    object\n",
       "dtype: object"
      ]
     },
     "execution_count": 32,
     "metadata": {},
     "output_type": "execute_result"
    }
   ],
   "source": [
    "data.dtypes"
   ]
  },
  {
   "cell_type": "code",
   "execution_count": 33,
   "id": "bfaad2f8",
   "metadata": {},
   "outputs": [],
   "source": [
    "def times(row):\n",
    "    d = literal_eval(row.Times)\n",
    "    t = 0\n",
    "    n = len(d)\n",
    "    for i in d:\n",
    "        t += i[1]\n",
    "    return t/n"
   ]
  },
  {
   "cell_type": "code",
   "execution_count": 34,
   "id": "5d535ffc",
   "metadata": {},
   "outputs": [],
   "source": [
    "def epochs(row):\n",
    "    d = literal_eval(row.Times)\n",
    "    return len(d)"
   ]
  },
  {
   "cell_type": "code",
   "execution_count": 35,
   "id": "b20f1e79",
   "metadata": {},
   "outputs": [],
   "source": [
    "data[\"Avg\"] = data.apply(lambda row: times(row), axis=1)\n",
    "data[\"Epochs\"] = data.apply(lambda row: epochs(row), axis=1)"
   ]
  },
  {
   "cell_type": "code",
   "execution_count": 36,
   "id": "a5f7cb28",
   "metadata": {},
   "outputs": [
    {
     "data": {
      "text/html": [
       "<div>\n",
       "<style scoped>\n",
       "    .dataframe tbody tr th:only-of-type {\n",
       "        vertical-align: middle;\n",
       "    }\n",
       "\n",
       "    .dataframe tbody tr th {\n",
       "        vertical-align: top;\n",
       "    }\n",
       "\n",
       "    .dataframe thead th {\n",
       "        text-align: right;\n",
       "    }\n",
       "</style>\n",
       "<table border=\"1\" class=\"dataframe\">\n",
       "  <thead>\n",
       "    <tr style=\"text-align: right;\">\n",
       "      <th></th>\n",
       "      <th>Model</th>\n",
       "      <th>Idx</th>\n",
       "      <th>Times</th>\n",
       "      <th>Avg</th>\n",
       "      <th>Epochs</th>\n",
       "    </tr>\n",
       "  </thead>\n",
       "  <tbody>\n",
       "    <tr>\n",
       "      <th>0</th>\n",
       "      <td>B1</td>\n",
       "      <td>0</td>\n",
       "      <td>[(1, 147.99716329574585), (2, 131.089318037033...</td>\n",
       "      <td>134.473952</td>\n",
       "      <td>32</td>\n",
       "    </tr>\n",
       "    <tr>\n",
       "      <th>1</th>\n",
       "      <td>B1</td>\n",
       "      <td>1</td>\n",
       "      <td>[(1, 138.3292236328125), (2, 132.6143598556518...</td>\n",
       "      <td>137.282973</td>\n",
       "      <td>21</td>\n",
       "    </tr>\n",
       "    <tr>\n",
       "      <th>2</th>\n",
       "      <td>B1</td>\n",
       "      <td>2</td>\n",
       "      <td>[(1, 139.56730675697327), (2, 141.328600168228...</td>\n",
       "      <td>138.052156</td>\n",
       "      <td>21</td>\n",
       "    </tr>\n",
       "    <tr>\n",
       "      <th>3</th>\n",
       "      <td>B1</td>\n",
       "      <td>3</td>\n",
       "      <td>[(1, 129.2668673992157), (2, 119.9269165992736...</td>\n",
       "      <td>128.592381</td>\n",
       "      <td>26</td>\n",
       "    </tr>\n",
       "    <tr>\n",
       "      <th>4</th>\n",
       "      <td>B1</td>\n",
       "      <td>4</td>\n",
       "      <td>[(1, 141.2414722442627), (2, 127.1892259120941...</td>\n",
       "      <td>128.828348</td>\n",
       "      <td>22</td>\n",
       "    </tr>\n",
       "  </tbody>\n",
       "</table>\n",
       "</div>"
      ],
      "text/plain": [
       "  Model Idx                                              Times         Avg  \\\n",
       "0    B1   0  [(1, 147.99716329574585), (2, 131.089318037033...  134.473952   \n",
       "1    B1   1  [(1, 138.3292236328125), (2, 132.6143598556518...  137.282973   \n",
       "2    B1   2  [(1, 139.56730675697327), (2, 141.328600168228...  138.052156   \n",
       "3    B1   3  [(1, 129.2668673992157), (2, 119.9269165992736...  128.592381   \n",
       "4    B1   4  [(1, 141.2414722442627), (2, 127.1892259120941...  128.828348   \n",
       "\n",
       "   Epochs  \n",
       "0      32  \n",
       "1      21  \n",
       "2      21  \n",
       "3      26  \n",
       "4      22  "
      ]
     },
     "execution_count": 36,
     "metadata": {},
     "output_type": "execute_result"
    }
   ],
   "source": [
    "data.head()"
   ]
  },
  {
   "cell_type": "code",
   "execution_count": 37,
   "id": "2f7f0925",
   "metadata": {},
   "outputs": [],
   "source": [
    "def findAverageTime(df):\n",
    "    avg = np.array(df.Avg)\n",
    "    epo = np.array(df.Epochs)\n",
    "    a = np.sum(avg*epo) / np.sum(epo)\n",
    "    print(f\"{df.Model.unique()[0]};{np.round(a, 2)}\")\n",
    "    return a"
   ]
  },
  {
   "cell_type": "code",
   "execution_count": 38,
   "id": "12070a25",
   "metadata": {},
   "outputs": [
    {
     "name": "stdout",
     "output_type": "stream",
     "text": [
      "A1;110.71\n",
      "A2;115.14\n",
      "A3;123.82\n",
      "B1;133.3\n",
      "B2;136.51\n",
      "B3;181.23\n",
      "C1;124.64\n",
      "C2;143.73\n",
      "C3;163.16\n",
      "C4;170.04\n",
      "D1;161.87\n",
      "D2;200.54\n",
      "D3;264.48\n"
     ]
    }
   ],
   "source": [
    "times = data.groupby(by=[\"Model\"]).apply(findAverageTime)"
   ]
  },
  {
   "cell_type": "code",
   "execution_count": 39,
   "id": "c92d7b42",
   "metadata": {},
   "outputs": [],
   "source": [
    "def findAverageEpochs(df):\n",
    "    epo = np.array(df.Epochs)\n",
    "    print(f\"{df.Model.unique()[0]};{np.mean(epo)}\")\n",
    "    return np.mean(epo)"
   ]
  },
  {
   "cell_type": "code",
   "execution_count": 40,
   "id": "6530927d",
   "metadata": {},
   "outputs": [
    {
     "name": "stdout",
     "output_type": "stream",
     "text": [
      "A1;28.8\n",
      "A2;26.8\n",
      "A3;29.8\n",
      "B1;24.4\n",
      "B2;26.8\n",
      "B3;25.2\n",
      "C1;30.4\n",
      "C2;28.0\n",
      "C3;29.4\n",
      "C4;25.2\n",
      "D1;31.0\n",
      "D2;27.8\n",
      "D3;23.8\n"
     ]
    }
   ],
   "source": [
    "epochs = data.groupby(by=[\"Model\"]).apply(findAverageEpochs)"
   ]
  },
  {
   "cell_type": "code",
   "execution_count": 41,
   "id": "efc4817f",
   "metadata": {},
   "outputs": [
    {
     "data": {
      "text/plain": [
       "Model\n",
       "A1    3188.578534\n",
       "A2    3085.659153\n",
       "A3    3689.766912\n",
       "B1    3252.565944\n",
       "B2    3658.546240\n",
       "B3    4567.088594\n",
       "C1    3789.174178\n",
       "C2    4024.559622\n",
       "C3    4796.937373\n",
       "C4    4285.021913\n",
       "D1    5018.115404\n",
       "D2    5575.093849\n",
       "D3    6294.710450\n",
       "dtype: float64"
      ]
     },
     "execution_count": 41,
     "metadata": {},
     "output_type": "execute_result"
    }
   ],
   "source": [
    "times*epochs"
   ]
  },
  {
   "cell_type": "code",
   "execution_count": 42,
   "id": "ad0cb2c8",
   "metadata": {},
   "outputs": [],
   "source": [
    "params = pd.DataFrame(columns=[\"Model\", \"Params\"])\n",
    "with open(\"params.txt\", \"r\") as f:\n",
    "    for line in f.readlines():\n",
    "        if line.startswith(\"Model\"):\n",
    "            continue\n",
    "        d = line.split(\";\")\n",
    "        d[1] = d[1].split(\"\\n\")[0]\n",
    "        df = {\"Model\": str(d[0]), \"Params\": int(d[1])}\n",
    "        params = params.append(pd.DataFrame(df, index=[0]))\n",
    "\n",
    "params.reset_index(inplace=True)\n",
    "params.drop(columns=[\"index\"], inplace=True)"
   ]
  },
  {
   "cell_type": "code",
   "execution_count": 43,
   "id": "c5a80b6e",
   "metadata": {},
   "outputs": [
    {
     "data": {
      "text/html": [
       "<div>\n",
       "<style scoped>\n",
       "    .dataframe tbody tr th:only-of-type {\n",
       "        vertical-align: middle;\n",
       "    }\n",
       "\n",
       "    .dataframe tbody tr th {\n",
       "        vertical-align: top;\n",
       "    }\n",
       "\n",
       "    .dataframe thead th {\n",
       "        text-align: right;\n",
       "    }\n",
       "</style>\n",
       "<table border=\"1\" class=\"dataframe\">\n",
       "  <thead>\n",
       "    <tr style=\"text-align: right;\">\n",
       "      <th></th>\n",
       "      <th>Model</th>\n",
       "      <th>Params</th>\n",
       "    </tr>\n",
       "  </thead>\n",
       "  <tbody>\n",
       "    <tr>\n",
       "      <th>0</th>\n",
       "      <td>B1</td>\n",
       "      <td>55984</td>\n",
       "    </tr>\n",
       "    <tr>\n",
       "      <th>1</th>\n",
       "      <td>B2</td>\n",
       "      <td>121096</td>\n",
       "    </tr>\n",
       "    <tr>\n",
       "      <th>2</th>\n",
       "      <td>A1</td>\n",
       "      <td>178080</td>\n",
       "    </tr>\n",
       "    <tr>\n",
       "      <th>3</th>\n",
       "      <td>B3</td>\n",
       "      <td>278968</td>\n",
       "    </tr>\n",
       "    <tr>\n",
       "      <th>4</th>\n",
       "      <td>A2</td>\n",
       "      <td>356072</td>\n",
       "    </tr>\n",
       "  </tbody>\n",
       "</table>\n",
       "</div>"
      ],
      "text/plain": [
       "  Model  Params\n",
       "0    B1   55984\n",
       "1    B2  121096\n",
       "2    A1  178080\n",
       "3    B3  278968\n",
       "4    A2  356072"
      ]
     },
     "execution_count": 43,
     "metadata": {},
     "output_type": "execute_result"
    }
   ],
   "source": [
    "params.head()"
   ]
  },
  {
   "cell_type": "code",
   "execution_count": 44,
   "id": "27db7327",
   "metadata": {},
   "outputs": [],
   "source": [
    "full = pd.merge(data, params, on=[\"Model\"])"
   ]
  },
  {
   "cell_type": "code",
   "execution_count": 45,
   "id": "191a2e35",
   "metadata": {},
   "outputs": [
    {
     "data": {
      "text/html": [
       "<div>\n",
       "<style scoped>\n",
       "    .dataframe tbody tr th:only-of-type {\n",
       "        vertical-align: middle;\n",
       "    }\n",
       "\n",
       "    .dataframe tbody tr th {\n",
       "        vertical-align: top;\n",
       "    }\n",
       "\n",
       "    .dataframe thead th {\n",
       "        text-align: right;\n",
       "    }\n",
       "</style>\n",
       "<table border=\"1\" class=\"dataframe\">\n",
       "  <thead>\n",
       "    <tr style=\"text-align: right;\">\n",
       "      <th></th>\n",
       "      <th>Model</th>\n",
       "      <th>Idx</th>\n",
       "      <th>Times</th>\n",
       "      <th>Avg</th>\n",
       "      <th>Epochs</th>\n",
       "      <th>Params</th>\n",
       "    </tr>\n",
       "  </thead>\n",
       "  <tbody>\n",
       "    <tr>\n",
       "      <th>0</th>\n",
       "      <td>B1</td>\n",
       "      <td>0</td>\n",
       "      <td>[(1, 147.99716329574585), (2, 131.089318037033...</td>\n",
       "      <td>134.473952</td>\n",
       "      <td>32</td>\n",
       "      <td>55984</td>\n",
       "    </tr>\n",
       "    <tr>\n",
       "      <th>1</th>\n",
       "      <td>B1</td>\n",
       "      <td>1</td>\n",
       "      <td>[(1, 138.3292236328125), (2, 132.6143598556518...</td>\n",
       "      <td>137.282973</td>\n",
       "      <td>21</td>\n",
       "      <td>55984</td>\n",
       "    </tr>\n",
       "    <tr>\n",
       "      <th>2</th>\n",
       "      <td>B1</td>\n",
       "      <td>2</td>\n",
       "      <td>[(1, 139.56730675697327), (2, 141.328600168228...</td>\n",
       "      <td>138.052156</td>\n",
       "      <td>21</td>\n",
       "      <td>55984</td>\n",
       "    </tr>\n",
       "    <tr>\n",
       "      <th>3</th>\n",
       "      <td>B1</td>\n",
       "      <td>3</td>\n",
       "      <td>[(1, 129.2668673992157), (2, 119.9269165992736...</td>\n",
       "      <td>128.592381</td>\n",
       "      <td>26</td>\n",
       "      <td>55984</td>\n",
       "    </tr>\n",
       "    <tr>\n",
       "      <th>4</th>\n",
       "      <td>B1</td>\n",
       "      <td>4</td>\n",
       "      <td>[(1, 141.2414722442627), (2, 127.1892259120941...</td>\n",
       "      <td>128.828348</td>\n",
       "      <td>22</td>\n",
       "      <td>55984</td>\n",
       "    </tr>\n",
       "  </tbody>\n",
       "</table>\n",
       "</div>"
      ],
      "text/plain": [
       "  Model Idx                                              Times         Avg  \\\n",
       "0    B1   0  [(1, 147.99716329574585), (2, 131.089318037033...  134.473952   \n",
       "1    B1   1  [(1, 138.3292236328125), (2, 132.6143598556518...  137.282973   \n",
       "2    B1   2  [(1, 139.56730675697327), (2, 141.328600168228...  138.052156   \n",
       "3    B1   3  [(1, 129.2668673992157), (2, 119.9269165992736...  128.592381   \n",
       "4    B1   4  [(1, 141.2414722442627), (2, 127.1892259120941...  128.828348   \n",
       "\n",
       "   Epochs Params  \n",
       "0      32  55984  \n",
       "1      21  55984  \n",
       "2      21  55984  \n",
       "3      26  55984  \n",
       "4      22  55984  "
      ]
     },
     "execution_count": 45,
     "metadata": {},
     "output_type": "execute_result"
    }
   ],
   "source": [
    "full.head()"
   ]
  },
  {
   "cell_type": "code",
   "execution_count": 46,
   "id": "6ce9187c",
   "metadata": {},
   "outputs": [],
   "source": [
    "def timePerParam(df):\n",
    "    avg = np.array(df.Avg)\n",
    "    epo = np.array(df.Epochs)\n",
    "    par = np.mean(df.Params)\n",
    "    a = np.sum(avg*epo) / np.sum(epo)\n",
    "    print(f\"{df.Model.unique()[0]};{np.around(a, 2)};{par}\")"
   ]
  },
  {
   "cell_type": "code",
   "execution_count": 47,
   "id": "494db849",
   "metadata": {
    "scrolled": false
   },
   "outputs": [
    {
     "name": "stdout",
     "output_type": "stream",
     "text": [
      "A1;110.71;178080.0\n",
      "A2;115.14;356072.0\n",
      "A3;123.82;534064.0\n",
      "B1;133.3;55984.0\n",
      "B2;136.51;121096.0\n",
      "B3;181.23;278968.0\n",
      "C1;124.64;1056232.0\n",
      "C2;143.73;2358448.0\n",
      "C3;163.16;3133176.0\n",
      "C4;170.04;4176760.0\n",
      "D1;161.87;741088.0\n",
      "D2;200.54;1301432.0\n",
      "D3;264.48;1956384.0\n"
     ]
    },
    {
     "data": {
      "text/html": [
       "<div>\n",
       "<style scoped>\n",
       "    .dataframe tbody tr th:only-of-type {\n",
       "        vertical-align: middle;\n",
       "    }\n",
       "\n",
       "    .dataframe tbody tr th {\n",
       "        vertical-align: top;\n",
       "    }\n",
       "\n",
       "    .dataframe thead th {\n",
       "        text-align: right;\n",
       "    }\n",
       "</style>\n",
       "<table border=\"1\" class=\"dataframe\">\n",
       "  <thead>\n",
       "    <tr style=\"text-align: right;\">\n",
       "      <th></th>\n",
       "    </tr>\n",
       "  </thead>\n",
       "  <tbody>\n",
       "  </tbody>\n",
       "</table>\n",
       "</div>"
      ],
      "text/plain": [
       "Empty DataFrame\n",
       "Columns: []\n",
       "Index: []"
      ]
     },
     "execution_count": 47,
     "metadata": {},
     "output_type": "execute_result"
    }
   ],
   "source": [
    "full.groupby(by=[\"Model\"]).apply(timePerParam)"
   ]
  },
  {
   "cell_type": "code",
   "execution_count": null,
   "id": "651f6613",
   "metadata": {},
   "outputs": [],
   "source": []
  }
 ],
 "metadata": {
  "kernelspec": {
   "display_name": "Python 3",
   "language": "python",
   "name": "python3"
  },
  "language_info": {
   "codemirror_mode": {
    "name": "ipython",
    "version": 3
   },
   "file_extension": ".py",
   "mimetype": "text/x-python",
   "name": "python",
   "nbconvert_exporter": "python",
   "pygments_lexer": "ipython3",
   "version": "3.8.8"
  }
 },
 "nbformat": 4,
 "nbformat_minor": 5
}
